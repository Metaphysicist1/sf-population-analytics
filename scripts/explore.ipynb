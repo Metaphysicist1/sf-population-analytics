{
 "cells": [
  {
   "cell_type": "code",
   "execution_count": 2,
   "metadata": {},
   "outputs": [],
   "source": [
    "import pandas as pd\n",
    "import pathlib\n",
    "import os\n",
    "import pandas as pd\n",
    "import numpy as np\n",
    "from unidecode import unidecode\n",
    "import re\n",
    "from datetime import datetime"
   ]
  },
  {
   "cell_type": "code",
   "execution_count": 5,
   "metadata": {},
   "outputs": [],
   "source": [
    "current_path = os.getcwd()\n",
    "data_path = '../data/San_Francisco_Population_and_Demographic_Census_Data_20250729.csv'\n",
    "full_path = os.path.join(current_path, data_path)"
   ]
  },
  {
   "cell_type": "code",
   "execution_count": 6,
   "metadata": {},
   "outputs": [],
   "source": [
    "df = pd.read_csv(full_path)\n"
   ]
  },
  {
   "cell_type": "code",
   "execution_count": 42,
   "metadata": {},
   "outputs": [
    {
     "name": "stdout",
     "output_type": "stream",
     "text": [
      "Original shape: (31127, 32)\n",
      "Original unique geographies: 340\n"
     ]
    }
   ],
   "source": [
    "print(f\"Original shape: {df.shape}\")\n",
    "print(f\"Original unique geographies: {df['geography_id'].nunique()}\")"
   ]
  },
  {
   "cell_type": "code",
   "execution_count": 43,
   "metadata": {},
   "outputs": [
    {
     "data": {
      "text/plain": [
       "Index(['source', 'num_years', 'start_year', 'end_year', 'derived',\n",
       "       'derived_details', 'geography', 'geography_id_name', 'geography_id',\n",
       "       'geography_name', 'demographic_category', 'demographic_category_label',\n",
       "       'min_age', 'max_age', 'unit', 'estimate', 'se', 'moe', 'cv', 'reliable',\n",
       "       'upper_ci', 'lower_ci', 'acs_table', 'acs_code', 'acs_label',\n",
       "       'acs_concept', 'pums_variables', 'overall_segment', 'reporting_segment',\n",
       "       'row_identifier', 'data_as_of', 'data_loaded_at'],\n",
       "      dtype='object')"
      ]
     },
     "execution_count": 43,
     "metadata": {},
     "output_type": "execute_result"
    }
   ],
   "source": [
    "df.columns"
   ]
  },
  {
   "cell_type": "code",
   "execution_count": 44,
   "metadata": {},
   "outputs": [
    {
     "data": {
      "text/html": [
       "<div>\n",
       "<style scoped>\n",
       "    .dataframe tbody tr th:only-of-type {\n",
       "        vertical-align: middle;\n",
       "    }\n",
       "\n",
       "    .dataframe tbody tr th {\n",
       "        vertical-align: top;\n",
       "    }\n",
       "\n",
       "    .dataframe thead th {\n",
       "        text-align: right;\n",
       "    }\n",
       "</style>\n",
       "<table border=\"1\" class=\"dataframe\">\n",
       "  <thead>\n",
       "    <tr style=\"text-align: right;\">\n",
       "      <th></th>\n",
       "      <th>source</th>\n",
       "      <th>num_years</th>\n",
       "      <th>start_year</th>\n",
       "      <th>end_year</th>\n",
       "      <th>derived</th>\n",
       "      <th>derived_details</th>\n",
       "      <th>geography</th>\n",
       "      <th>geography_id_name</th>\n",
       "      <th>geography_id</th>\n",
       "      <th>geography_name</th>\n",
       "      <th>...</th>\n",
       "      <th>acs_table</th>\n",
       "      <th>acs_code</th>\n",
       "      <th>acs_label</th>\n",
       "      <th>acs_concept</th>\n",
       "      <th>pums_variables</th>\n",
       "      <th>overall_segment</th>\n",
       "      <th>reporting_segment</th>\n",
       "      <th>row_identifier</th>\n",
       "      <th>data_as_of</th>\n",
       "      <th>data_loaded_at</th>\n",
       "    </tr>\n",
       "  </thead>\n",
       "  <tbody>\n",
       "    <tr>\n",
       "      <th>0</th>\n",
       "      <td>PUMS_acs5</td>\n",
       "      <td>5</td>\n",
       "      <td>2014</td>\n",
       "      <td>2019</td>\n",
       "      <td>True</td>\n",
       "      <td>from public use micro data, se calculated usin...</td>\n",
       "      <td>county</td>\n",
       "      <td>GEOID</td>\n",
       "      <td>6075.0</td>\n",
       "      <td>San Francisco County, California</td>\n",
       "      <td>...</td>\n",
       "      <td>NaN</td>\n",
       "      <td>NaN</td>\n",
       "      <td>NaN</td>\n",
       "      <td>NaN</td>\n",
       "      <td>AGEP</td>\n",
       "      <td>PUMS_acs5 population count data from 2014 to 2...</td>\n",
       "      <td>COVID-19 vaccine reporting - age groups</td>\n",
       "      <td>PUMS_acs5 population count data from 2014 to 2...</td>\n",
       "      <td>10/20/2022 02:24:33 PM</td>\n",
       "      <td>10/20/2022 02:28:00 PM</td>\n",
       "    </tr>\n",
       "    <tr>\n",
       "      <th>1</th>\n",
       "      <td>PUMS_acs5</td>\n",
       "      <td>5</td>\n",
       "      <td>2015</td>\n",
       "      <td>2020</td>\n",
       "      <td>True</td>\n",
       "      <td>from public use micro data, se calculated usin...</td>\n",
       "      <td>county</td>\n",
       "      <td>GEOID</td>\n",
       "      <td>6075.0</td>\n",
       "      <td>San Francisco County, California</td>\n",
       "      <td>...</td>\n",
       "      <td>NaN</td>\n",
       "      <td>NaN</td>\n",
       "      <td>NaN</td>\n",
       "      <td>NaN</td>\n",
       "      <td>AGEP</td>\n",
       "      <td>PUMS_acs5 population count data from 2015 to 2...</td>\n",
       "      <td>COVID-19 vaccine reporting - age groups</td>\n",
       "      <td>PUMS_acs5 population count data from 2015 to 2...</td>\n",
       "      <td>10/20/2022 02:24:34 PM</td>\n",
       "      <td>10/20/2022 02:28:00 PM</td>\n",
       "    </tr>\n",
       "    <tr>\n",
       "      <th>2</th>\n",
       "      <td>PUMS_acs5</td>\n",
       "      <td>5</td>\n",
       "      <td>2014</td>\n",
       "      <td>2019</td>\n",
       "      <td>True</td>\n",
       "      <td>from public use micro data, se calculated usin...</td>\n",
       "      <td>county</td>\n",
       "      <td>GEOID</td>\n",
       "      <td>6075.0</td>\n",
       "      <td>San Francisco County, California</td>\n",
       "      <td>...</td>\n",
       "      <td>NaN</td>\n",
       "      <td>NaN</td>\n",
       "      <td>NaN</td>\n",
       "      <td>NaN</td>\n",
       "      <td>AGEP</td>\n",
       "      <td>PUMS_acs5 population count data from 2014 to 2...</td>\n",
       "      <td>COVID-19 vaccine reporting - age groups</td>\n",
       "      <td>PUMS_acs5 population count data from 2014 to 2...</td>\n",
       "      <td>10/20/2022 02:24:35 PM</td>\n",
       "      <td>10/20/2022 02:28:00 PM</td>\n",
       "    </tr>\n",
       "    <tr>\n",
       "      <th>3</th>\n",
       "      <td>PUMS_acs5</td>\n",
       "      <td>5</td>\n",
       "      <td>2015</td>\n",
       "      <td>2020</td>\n",
       "      <td>True</td>\n",
       "      <td>from public use micro data, se calculated usin...</td>\n",
       "      <td>county</td>\n",
       "      <td>GEOID</td>\n",
       "      <td>6075.0</td>\n",
       "      <td>San Francisco County, California</td>\n",
       "      <td>...</td>\n",
       "      <td>NaN</td>\n",
       "      <td>NaN</td>\n",
       "      <td>NaN</td>\n",
       "      <td>NaN</td>\n",
       "      <td>AGEP</td>\n",
       "      <td>PUMS_acs5 population count data from 2015 to 2...</td>\n",
       "      <td>COVID-19 vaccine reporting - age groups</td>\n",
       "      <td>PUMS_acs5 population count data from 2015 to 2...</td>\n",
       "      <td>10/20/2022 02:24:36 PM</td>\n",
       "      <td>10/20/2022 02:28:00 PM</td>\n",
       "    </tr>\n",
       "    <tr>\n",
       "      <th>4</th>\n",
       "      <td>acs5</td>\n",
       "      <td>5</td>\n",
       "      <td>2016</td>\n",
       "      <td>2021</td>\n",
       "      <td>False</td>\n",
       "      <td>from acs table</td>\n",
       "      <td>county</td>\n",
       "      <td>GEOID</td>\n",
       "      <td>6075.0</td>\n",
       "      <td>San Francisco County, California</td>\n",
       "      <td>...</td>\n",
       "      <td>B01001</td>\n",
       "      <td>1.0</td>\n",
       "      <td>Estimate!!Total:</td>\n",
       "      <td>SEX BY AGE</td>\n",
       "      <td>NaN</td>\n",
       "      <td>acs5 population count data from 2016 to 2021 a...</td>\n",
       "      <td>from census table B01001</td>\n",
       "      <td>acs5 population count data from 2016 to 2021 a...</td>\n",
       "      <td>03/06/2023 12:09:00 PM</td>\n",
       "      <td>03/06/2023 12:32:00 PM</td>\n",
       "    </tr>\n",
       "  </tbody>\n",
       "</table>\n",
       "<p>5 rows × 32 columns</p>\n",
       "</div>"
      ],
      "text/plain": [
       "      source  num_years  start_year  end_year  derived  \\\n",
       "0  PUMS_acs5          5        2014      2019     True   \n",
       "1  PUMS_acs5          5        2015      2020     True   \n",
       "2  PUMS_acs5          5        2014      2019     True   \n",
       "3  PUMS_acs5          5        2015      2020     True   \n",
       "4       acs5          5        2016      2021    False   \n",
       "\n",
       "                                     derived_details geography  \\\n",
       "0  from public use micro data, se calculated usin...    county   \n",
       "1  from public use micro data, se calculated usin...    county   \n",
       "2  from public use micro data, se calculated usin...    county   \n",
       "3  from public use micro data, se calculated usin...    county   \n",
       "4                                     from acs table    county   \n",
       "\n",
       "  geography_id_name  geography_id                    geography_name  ...  \\\n",
       "0             GEOID        6075.0  San Francisco County, California  ...   \n",
       "1             GEOID        6075.0  San Francisco County, California  ...   \n",
       "2             GEOID        6075.0  San Francisco County, California  ...   \n",
       "3             GEOID        6075.0  San Francisco County, California  ...   \n",
       "4             GEOID        6075.0  San Francisco County, California  ...   \n",
       "\n",
       "  acs_table acs_code         acs_label  acs_concept pums_variables  \\\n",
       "0       NaN      NaN               NaN          NaN           AGEP   \n",
       "1       NaN      NaN               NaN          NaN           AGEP   \n",
       "2       NaN      NaN               NaN          NaN           AGEP   \n",
       "3       NaN      NaN               NaN          NaN           AGEP   \n",
       "4    B01001      1.0  Estimate!!Total:   SEX BY AGE            NaN   \n",
       "\n",
       "                                     overall_segment  \\\n",
       "0  PUMS_acs5 population count data from 2014 to 2...   \n",
       "1  PUMS_acs5 population count data from 2015 to 2...   \n",
       "2  PUMS_acs5 population count data from 2014 to 2...   \n",
       "3  PUMS_acs5 population count data from 2015 to 2...   \n",
       "4  acs5 population count data from 2016 to 2021 a...   \n",
       "\n",
       "                         reporting_segment  \\\n",
       "0  COVID-19 vaccine reporting - age groups   \n",
       "1  COVID-19 vaccine reporting - age groups   \n",
       "2  COVID-19 vaccine reporting - age groups   \n",
       "3  COVID-19 vaccine reporting - age groups   \n",
       "4                 from census table B01001   \n",
       "\n",
       "                                      row_identifier              data_as_of  \\\n",
       "0  PUMS_acs5 population count data from 2014 to 2...  10/20/2022 02:24:33 PM   \n",
       "1  PUMS_acs5 population count data from 2015 to 2...  10/20/2022 02:24:34 PM   \n",
       "2  PUMS_acs5 population count data from 2014 to 2...  10/20/2022 02:24:35 PM   \n",
       "3  PUMS_acs5 population count data from 2015 to 2...  10/20/2022 02:24:36 PM   \n",
       "4  acs5 population count data from 2016 to 2021 a...  03/06/2023 12:09:00 PM   \n",
       "\n",
       "           data_loaded_at  \n",
       "0  10/20/2022 02:28:00 PM  \n",
       "1  10/20/2022 02:28:00 PM  \n",
       "2  10/20/2022 02:28:00 PM  \n",
       "3  10/20/2022 02:28:00 PM  \n",
       "4  03/06/2023 12:32:00 PM  \n",
       "\n",
       "[5 rows x 32 columns]"
      ]
     },
     "execution_count": 44,
     "metadata": {},
     "output_type": "execute_result"
    }
   ],
   "source": [
    "df.head()"
   ]
  },
  {
   "cell_type": "markdown",
   "metadata": {},
   "source": [
    "### ////\n"
   ]
  },
  {
   "cell_type": "code",
   "execution_count": 45,
   "metadata": {},
   "outputs": [
    {
     "name": "stdout",
     "output_type": "stream",
     "text": [
      "Rows after filtering to AGEP (age) and valid estimate: 31119\n",
      "Geographies after filter: 341\n"
     ]
    }
   ],
   "source": [
    "age_df = df.copy()\n",
    "age_df = age_df[age_df['estimate'].notna()].copy()\n",
    "\n",
    "# Convert geography_id to string (remove .0)\n",
    "age_df['geography_id'] = age_df['geography_id'].astype(str).str.replace('.0', '', regex=False)\n",
    "\n",
    "# Create time_key\n",
    "age_df['time_key'] = age_df['start_year'].astype(str) + '_' + age_df['end_year'].astype(str)\n",
    "\n",
    "print(f\"Rows after filtering to AGEP (age) and valid estimate: {len(age_df)}\")\n",
    "print(f\"Geographies after filter: {age_df['geography_id'].nunique()}\")\n"
   ]
  },
  {
   "cell_type": "code",
   "execution_count": 46,
   "metadata": {},
   "outputs": [],
   "source": [
    "def clean_text(x):\n",
    "    if pd.isna(x):\n",
    "        return \"Unknown\"\n",
    "    x = str(x).strip()\n",
    "    x = unidecode(x)  # Remove accents\n",
    "    x = re.sub(r'\\s+', ' ', x)  # Normalize whitespace\n",
    "    return x.lower()\n",
    "\n",
    "# Apply to key fields\n",
    "age_df['reporting_segment'] = age_df['reporting_segment'].apply(clean_text)\n",
    "age_df['overall_segment'] = age_df['overall_segment'].apply(clean_text)\n",
    "age_df['acs_concept'] = age_df['acs_concept'].apply(clean_text)"
   ]
  },
  {
   "cell_type": "code",
   "execution_count": 47,
   "metadata": {},
   "outputs": [
    {
     "data": {
      "text/plain": [
       "(31119, 33)"
      ]
     },
     "execution_count": 47,
     "metadata": {},
     "output_type": "execute_result"
    }
   ],
   "source": [
    "age_df.shape"
   ]
  },
  {
   "cell_type": "code",
   "execution_count": 48,
   "metadata": {},
   "outputs": [
    {
     "name": "stdout",
     "output_type": "stream",
     "text": [
      "Created Source_Dim with 9 records\n"
     ]
    }
   ],
   "source": [
    "# 1. Source_Dim\n",
    "source_dim = df[['source', 'derived', 'derived_details']].drop_duplicates()\n",
    "source_dim['source_key'] = range(1, len(source_dim) + 1)\n",
    "source_dim = source_dim.rename(columns={\n",
    "    'source': 'source_name',\n",
    "    'derived': 'derived_flag'\n",
    "})\n",
    "\n",
    "print(f\"Created Source_Dim with {len(source_dim)} records\")"
   ]
  },
  {
   "cell_type": "code",
   "execution_count": 49,
   "metadata": {},
   "outputs": [
    {
     "name": "stdout",
     "output_type": "stream",
     "text": [
      "Created Geography_Dim with 920 records\n"
     ]
    }
   ],
   "source": [
    "geography_dim = df[['geography', 'geography_id_name', 'geography_id', 'geography_name']].drop_duplicates()\n",
    "geography_dim['geography_key'] = range(1, len(geography_dim) + 1)\n",
    "\n",
    "print(f\"Created Geography_Dim with {len(geography_dim)} records\")"
   ]
  },
  {
   "cell_type": "code",
   "execution_count": 50,
   "metadata": {},
   "outputs": [
    {
     "data": {
      "text/html": [
       "<div>\n",
       "<style scoped>\n",
       "    .dataframe tbody tr th:only-of-type {\n",
       "        vertical-align: middle;\n",
       "    }\n",
       "\n",
       "    .dataframe tbody tr th {\n",
       "        vertical-align: top;\n",
       "    }\n",
       "\n",
       "    .dataframe thead th {\n",
       "        text-align: right;\n",
       "    }\n",
       "</style>\n",
       "<table border=\"1\" class=\"dataframe\">\n",
       "  <thead>\n",
       "    <tr style=\"text-align: right;\">\n",
       "      <th></th>\n",
       "      <th>geography</th>\n",
       "      <th>geography_id_name</th>\n",
       "      <th>geography_id</th>\n",
       "      <th>geography_name</th>\n",
       "      <th>geography_key</th>\n",
       "    </tr>\n",
       "  </thead>\n",
       "  <tbody>\n",
       "    <tr>\n",
       "      <th>0</th>\n",
       "      <td>county</td>\n",
       "      <td>GEOID</td>\n",
       "      <td>6.075000e+03</td>\n",
       "      <td>San Francisco County, California</td>\n",
       "      <td>1</td>\n",
       "    </tr>\n",
       "    <tr>\n",
       "      <th>14</th>\n",
       "      <td>tract</td>\n",
       "      <td>GEOID</td>\n",
       "      <td>6.075010e+09</td>\n",
       "      <td>Census Tract 101.01, San Francisco County, Cal...</td>\n",
       "      <td>2</td>\n",
       "    </tr>\n",
       "    <tr>\n",
       "      <th>15</th>\n",
       "      <td>tract</td>\n",
       "      <td>GEOID</td>\n",
       "      <td>6.075010e+09</td>\n",
       "      <td>Census Tract 101.02, San Francisco County, Cal...</td>\n",
       "      <td>3</td>\n",
       "    </tr>\n",
       "    <tr>\n",
       "      <th>16</th>\n",
       "      <td>tract</td>\n",
       "      <td>GEOID</td>\n",
       "      <td>6.075010e+09</td>\n",
       "      <td>Census Tract 102.01, San Francisco County, Cal...</td>\n",
       "      <td>4</td>\n",
       "    </tr>\n",
       "    <tr>\n",
       "      <th>17</th>\n",
       "      <td>tract</td>\n",
       "      <td>GEOID</td>\n",
       "      <td>6.075010e+09</td>\n",
       "      <td>Census Tract 102.02, San Francisco County, Cal...</td>\n",
       "      <td>5</td>\n",
       "    </tr>\n",
       "    <tr>\n",
       "      <th>...</th>\n",
       "      <td>...</td>\n",
       "      <td>...</td>\n",
       "      <td>...</td>\n",
       "      <td>...</td>\n",
       "      <td>...</td>\n",
       "    </tr>\n",
       "    <tr>\n",
       "      <th>23018</th>\n",
       "      <td>tract</td>\n",
       "      <td>GEOID</td>\n",
       "      <td>6.075048e+09</td>\n",
       "      <td>Census Tract 479.01</td>\n",
       "      <td>916</td>\n",
       "    </tr>\n",
       "    <tr>\n",
       "      <th>23023</th>\n",
       "      <td>tract</td>\n",
       "      <td>GEOID</td>\n",
       "      <td>6.075061e+09</td>\n",
       "      <td>Census Tract 607</td>\n",
       "      <td>917</td>\n",
       "    </tr>\n",
       "    <tr>\n",
       "      <th>23025</th>\n",
       "      <td>tract</td>\n",
       "      <td>GEOID</td>\n",
       "      <td>6.075061e+09</td>\n",
       "      <td>Census Tract 611</td>\n",
       "      <td>918</td>\n",
       "    </tr>\n",
       "    <tr>\n",
       "      <th>23027</th>\n",
       "      <td>tract</td>\n",
       "      <td>GEOID</td>\n",
       "      <td>6.075061e+09</td>\n",
       "      <td>Census Tract 614</td>\n",
       "      <td>919</td>\n",
       "    </tr>\n",
       "    <tr>\n",
       "      <th>23028</th>\n",
       "      <td>tract</td>\n",
       "      <td>GEOID</td>\n",
       "      <td>6.075062e+09</td>\n",
       "      <td>Census Tract 615</td>\n",
       "      <td>920</td>\n",
       "    </tr>\n",
       "  </tbody>\n",
       "</table>\n",
       "<p>920 rows × 5 columns</p>\n",
       "</div>"
      ],
      "text/plain": [
       "      geography geography_id_name  geography_id  \\\n",
       "0        county             GEOID  6.075000e+03   \n",
       "14        tract             GEOID  6.075010e+09   \n",
       "15        tract             GEOID  6.075010e+09   \n",
       "16        tract             GEOID  6.075010e+09   \n",
       "17        tract             GEOID  6.075010e+09   \n",
       "...         ...               ...           ...   \n",
       "23018     tract             GEOID  6.075048e+09   \n",
       "23023     tract             GEOID  6.075061e+09   \n",
       "23025     tract             GEOID  6.075061e+09   \n",
       "23027     tract             GEOID  6.075061e+09   \n",
       "23028     tract             GEOID  6.075062e+09   \n",
       "\n",
       "                                          geography_name  geography_key  \n",
       "0                       San Francisco County, California              1  \n",
       "14     Census Tract 101.01, San Francisco County, Cal...              2  \n",
       "15     Census Tract 101.02, San Francisco County, Cal...              3  \n",
       "16     Census Tract 102.01, San Francisco County, Cal...              4  \n",
       "17     Census Tract 102.02, San Francisco County, Cal...              5  \n",
       "...                                                  ...            ...  \n",
       "23018                                Census Tract 479.01            916  \n",
       "23023                                   Census Tract 607            917  \n",
       "23025                                   Census Tract 611            918  \n",
       "23027                                   Census Tract 614            919  \n",
       "23028                                   Census Tract 615            920  \n",
       "\n",
       "[920 rows x 5 columns]"
      ]
     },
     "execution_count": 50,
     "metadata": {},
     "output_type": "execute_result"
    }
   ],
   "source": [
    "geography_dim"
   ]
  },
  {
   "cell_type": "code",
   "execution_count": null,
   "metadata": {},
   "outputs": [
    {
     "name": "stdout",
     "output_type": "stream",
     "text": [
      "Optimized Time_Dim shape: (17, 4)\n",
      "Created Segment_Dim with 165 records\n",
      "Created Variable_Dim with 65 records\n",
      "Created DataQuality_Dim with 1 records\n"
     ]
    }
   ],
   "source": [
    "# 3. Time_Dim\n",
    "time_dim = df[['start_year', 'end_year']].drop_duplicates()\n",
    "time_dim['time_key'] = range(1, len(time_dim) + 1)\n",
    "time_dim['period_length'] = time_dim['end_year'] - time_dim['start_year']\n",
    "print(f\"Optimized Time_Dim shape: {time_dim.shape}\")\n",
    "\n",
    "# 4. Segment_Dim\n",
    "segment_dim = df[['overall_segment', 'reporting_segment']].drop_duplicates()\n",
    "segment_dim['segment_key'] = range(1, len(segment_dim) + 1)\n",
    "# segment_dim.to_sql('Segment_Dim', conn, index=False, if_exists='replace')\n",
    "print(f\"Created Segment_Dim with {len(segment_dim)} records\")\n",
    "\n",
    "# 5. Variable_Dim\n",
    "variable_dim = df[['pums_variables', 'acs_table', 'acs_code', 'acs_label', 'acs_concept']].drop_duplicates()\n",
    "variable_dim['variable_key'] = range(1, len(variable_dim) + 1)\n",
    "# variable_dim.to_sql('Variable_Dim', conn, index=False, if_exists='replace')\n",
    "print(f\"Created Variable_Dim with {len(variable_dim)} records\")\n",
    "\n"
   ]
  },
  {
   "cell_type": "code",
   "execution_count": null,
   "metadata": {},
   "outputs": [
    {
     "name": "stdout",
     "output_type": "stream",
     "text": [
      "Available fact columns: 20/20\n",
      "Missing columns: []\n",
      "Created Population_Facts with 31127 records\n"
     ]
    }
   ],
   "source": [
    "fact_table = df.copy()\n",
    "\n",
    "# Add foreign keys by merging with dimension tables\n",
    "fact_table = fact_table.merge(\n",
    "    source_dim[['source_key', 'source_name', 'derived_flag', 'derived_details']], \n",
    "    left_on=['source', 'derived', 'derived_details'], \n",
    "    right_on=['source_name', 'derived_flag', 'derived_details'], \n",
    "    how='left'\n",
    ")\n",
    "\n",
    "fact_table = fact_table.merge(\n",
    "    geography_dim[['geography_key', 'geography', 'geography_id_name', 'geography_id', 'geography_name']], \n",
    "    on=['geography', 'geography_id_name', 'geography_id', 'geography_name'], \n",
    "    how='left'\n",
    ")\n",
    "\n",
    "# In fact table creation, modify the time merge:\n",
    "fact_table = fact_table.merge(\n",
    "    time_dim[['time_key', 'start_year', 'end_year']], \n",
    "    on=['start_year', 'end_year'],  # Remove precise timestamps from join\n",
    "    how='left'\n",
    ")\n",
    "\n",
    "fact_table = fact_table.merge(\n",
    "    segment_dim[['segment_key', 'overall_segment', 'reporting_segment']], \n",
    "    on=['overall_segment', 'reporting_segment'], \n",
    "    how='left'\n",
    ")\n",
    "\n",
    "fact_table = fact_table.merge(\n",
    "    variable_dim[['variable_key', 'pums_variables', 'acs_table', 'acs_code', 'acs_label', 'acs_concept']], \n",
    "    on=['pums_variables', 'acs_table', 'acs_code', 'acs_label', 'acs_concept'], \n",
    "    how='left'\n",
    ")\n",
    "\n",
    "# Add data quality key\n",
    "fact_table['data_quality_key'] = 1\n",
    "\n",
    "# Add fact_id\n",
    "fact_table['fact_id'] = range(1, len(fact_table) + 1)\n",
    "\n",
    "# Select final fact table columns\n",
    "base_fact_columns = [\n",
    "    'fact_id', 'source_key', 'geography_key', 'time_key', \n",
    "    'segment_key', 'variable_key', 'data_quality_key'\n",
    "]\n",
    "\n",
    "# Add numeric measures\n",
    "numeric_columns = ['num_years', 'start_year', 'end_year', 'estimate', 'se', 'moe', 'cv', 'upper_ci', 'lower_ci']\n",
    "available_numeric = [col for col in numeric_columns if col in fact_table.columns]\n",
    "\n",
    "# Add boolean/reliable flag\n",
    "flag_columns = ['reliable'] if 'reliable' in fact_table.columns else []\n",
    "\n",
    "# Add metadata columns\n",
    "metadata_columns = ['row_identifier', 'data_as_of', 'data_loafact_table_final_finalded_at']\n",
    "available_metadata = [col for col in metadata_columns if col in fact_table.columns]\n",
    "\n",
    "# Combine all columns\n",
    "fact_columns = base_fact_columns + available_numeric + flag_columns + available_metadata\n",
    "\n",
    "# Verify all columns exist\n",
    "existing_columns = [col for col in fact_columns if col in fact_table.columns]\n",
    "print(f\"Available fact columns: {len(existing_columns)}/{len(fact_columns)}\")\n",
    "print(f\"Missing columns: {[col for col in fact_columns if col not in fact_table.columns]}\")\n",
    "\n",
    "# Create final fact table\n",
    "fact_table_final = fact_table[existing_columns]\n",
    "# fact_table_final.to_sql('Population_Facts', conn, index=False, if_exists='replace')\n",
    "print(f\"Created Population_Facts with {len(fact_table_final)} records\")\n",
    "\n",
    "# # Create indexes for better performance\n",
    "# cursor.execute(\"CREATE INDEX IF NOT EXISTS idx_fact_source ON Population_Facts(source_key)\")\n",
    "# cursor.execute(\"CREATE INDEX IF NOT EXISTS idx_fact_geography ON Population_Facts(geography_key)\")\n",
    "# cursor.execute(\"CREATE INDEX IF NOT EXISTS idx_fact_time ON Population_Facts(time_key)\")\n",
    "\n",
    "# # Commit changes and close connection\n",
    "# conn.commit()\n",
    "# conn.close()\n",
    "\n",
    "# print(f\"\\nStar schema created successfully in {db_path}\")"
   ]
  },
  {
   "cell_type": "code",
   "execution_count": 53,
   "metadata": {},
   "outputs": [
    {
     "name": "stdout",
     "output_type": "stream",
     "text": [
      "source_dim.shape (9, 4)\n",
      "geography_dim.shape (920, 5)\n",
      "time_dim.shape (17, 4)\n",
      "segment_dim.shape (165, 3)\n",
      "variable_dim.shape (65, 6)\n"
     ]
    }
   ],
   "source": [
    "print(\"source_dim.shape\",source_dim.shape)\n",
    "print(\"geography_dim.shape\",geography_dim.shape)\n",
    "print(\"time_dim.shape\",time_dim.shape)\n",
    "print(\"segment_dim.shape\",segment_dim.shape)\n",
    "print(\"variable_dim.shape\",variable_dim.shape)"
   ]
  },
  {
   "cell_type": "code",
   "execution_count": 54,
   "metadata": {},
   "outputs": [
    {
     "data": {
      "text/plain": [
       "(31127, 20)"
      ]
     },
     "execution_count": 54,
     "metadata": {},
     "output_type": "execute_result"
    }
   ],
   "source": [
    "fact_table_final.shape"
   ]
  },
  {
   "cell_type": "code",
   "execution_count": 55,
   "metadata": {},
   "outputs": [
    {
     "data": {
      "text/html": [
       "<div>\n",
       "<style scoped>\n",
       "    .dataframe tbody tr th:only-of-type {\n",
       "        vertical-align: middle;\n",
       "    }\n",
       "\n",
       "    .dataframe tbody tr th {\n",
       "        vertical-align: top;\n",
       "    }\n",
       "\n",
       "    .dataframe thead th {\n",
       "        text-align: right;\n",
       "    }\n",
       "</style>\n",
       "<table border=\"1\" class=\"dataframe\">\n",
       "  <thead>\n",
       "    <tr style=\"text-align: right;\">\n",
       "      <th></th>\n",
       "      <th>fact_id</th>\n",
       "      <th>source_key</th>\n",
       "      <th>geography_key</th>\n",
       "      <th>time_key</th>\n",
       "      <th>segment_key</th>\n",
       "      <th>variable_key</th>\n",
       "      <th>data_quality_key</th>\n",
       "      <th>num_years</th>\n",
       "      <th>start_year</th>\n",
       "      <th>end_year</th>\n",
       "      <th>estimate</th>\n",
       "      <th>se</th>\n",
       "      <th>moe</th>\n",
       "      <th>cv</th>\n",
       "      <th>upper_ci</th>\n",
       "      <th>lower_ci</th>\n",
       "      <th>reliable</th>\n",
       "      <th>row_identifier</th>\n",
       "      <th>data_as_of</th>\n",
       "      <th>data_loaded_at</th>\n",
       "    </tr>\n",
       "  </thead>\n",
       "  <tbody>\n",
       "    <tr>\n",
       "      <th>0</th>\n",
       "      <td>1</td>\n",
       "      <td>1</td>\n",
       "      <td>1</td>\n",
       "      <td>1</td>\n",
       "      <td>1</td>\n",
       "      <td>1</td>\n",
       "      <td>1</td>\n",
       "      <td>5</td>\n",
       "      <td>2014</td>\n",
       "      <td>2019</td>\n",
       "      <td>757193.0</td>\n",
       "      <td>1148.231183</td>\n",
       "      <td>1888.840296</td>\n",
       "      <td>0.001516</td>\n",
       "      <td>759478.497000</td>\n",
       "      <td>754907.503000</td>\n",
       "      <td>True</td>\n",
       "      <td>PUMS_acs5 population count data from 2014 to 2...</td>\n",
       "      <td>10/20/2022 02:24:33 PM</td>\n",
       "      <td>10/20/2022 02:28:00 PM</td>\n",
       "    </tr>\n",
       "    <tr>\n",
       "      <th>1</th>\n",
       "      <td>2</td>\n",
       "      <td>1</td>\n",
       "      <td>1</td>\n",
       "      <td>2</td>\n",
       "      <td>2</td>\n",
       "      <td>1</td>\n",
       "      <td>1</td>\n",
       "      <td>5</td>\n",
       "      <td>2015</td>\n",
       "      <td>2020</td>\n",
       "      <td>757150.0</td>\n",
       "      <td>1552.237063</td>\n",
       "      <td>2553.429969</td>\n",
       "      <td>0.002050</td>\n",
       "      <td>760239.650589</td>\n",
       "      <td>754060.349411</td>\n",
       "      <td>True</td>\n",
       "      <td>PUMS_acs5 population count data from 2015 to 2...</td>\n",
       "      <td>10/20/2022 02:24:34 PM</td>\n",
       "      <td>10/20/2022 02:28:00 PM</td>\n",
       "    </tr>\n",
       "    <tr>\n",
       "      <th>2</th>\n",
       "      <td>3</td>\n",
       "      <td>1</td>\n",
       "      <td>1</td>\n",
       "      <td>1</td>\n",
       "      <td>1</td>\n",
       "      <td>1</td>\n",
       "      <td>1</td>\n",
       "      <td>5</td>\n",
       "      <td>2014</td>\n",
       "      <td>2019</td>\n",
       "      <td>292025.0</td>\n",
       "      <td>691.494866</td>\n",
       "      <td>1137.509055</td>\n",
       "      <td>0.002368</td>\n",
       "      <td>293401.386102</td>\n",
       "      <td>290648.613898</td>\n",
       "      <td>True</td>\n",
       "      <td>PUMS_acs5 population count data from 2014 to 2...</td>\n",
       "      <td>10/20/2022 02:24:35 PM</td>\n",
       "      <td>10/20/2022 02:28:00 PM</td>\n",
       "    </tr>\n",
       "    <tr>\n",
       "      <th>3</th>\n",
       "      <td>4</td>\n",
       "      <td>1</td>\n",
       "      <td>1</td>\n",
       "      <td>2</td>\n",
       "      <td>2</td>\n",
       "      <td>1</td>\n",
       "      <td>1</td>\n",
       "      <td>5</td>\n",
       "      <td>2015</td>\n",
       "      <td>2020</td>\n",
       "      <td>294363.0</td>\n",
       "      <td>1015.866945</td>\n",
       "      <td>1671.101125</td>\n",
       "      <td>0.003451</td>\n",
       "      <td>296385.032574</td>\n",
       "      <td>292340.967426</td>\n",
       "      <td>True</td>\n",
       "      <td>PUMS_acs5 population count data from 2015 to 2...</td>\n",
       "      <td>10/20/2022 02:24:36 PM</td>\n",
       "      <td>10/20/2022 02:28:00 PM</td>\n",
       "    </tr>\n",
       "    <tr>\n",
       "      <th>4</th>\n",
       "      <td>5</td>\n",
       "      <td>2</td>\n",
       "      <td>1</td>\n",
       "      <td>3</td>\n",
       "      <td>3</td>\n",
       "      <td>2</td>\n",
       "      <td>1</td>\n",
       "      <td>5</td>\n",
       "      <td>2016</td>\n",
       "      <td>2021</td>\n",
       "      <td>865933.0</td>\n",
       "      <td>0.000000</td>\n",
       "      <td>0.000000</td>\n",
       "      <td>0.000000</td>\n",
       "      <td>865933.000000</td>\n",
       "      <td>865933.000000</td>\n",
       "      <td>True</td>\n",
       "      <td>acs5 population count data from 2016 to 2021 a...</td>\n",
       "      <td>03/06/2023 12:09:00 PM</td>\n",
       "      <td>03/06/2023 12:32:00 PM</td>\n",
       "    </tr>\n",
       "  </tbody>\n",
       "</table>\n",
       "</div>"
      ],
      "text/plain": [
       "   fact_id  source_key  geography_key  time_key  segment_key  variable_key  \\\n",
       "0        1           1              1         1            1             1   \n",
       "1        2           1              1         2            2             1   \n",
       "2        3           1              1         1            1             1   \n",
       "3        4           1              1         2            2             1   \n",
       "4        5           2              1         3            3             2   \n",
       "\n",
       "   data_quality_key  num_years  start_year  end_year  estimate           se  \\\n",
       "0                 1          5        2014      2019  757193.0  1148.231183   \n",
       "1                 1          5        2015      2020  757150.0  1552.237063   \n",
       "2                 1          5        2014      2019  292025.0   691.494866   \n",
       "3                 1          5        2015      2020  294363.0  1015.866945   \n",
       "4                 1          5        2016      2021  865933.0     0.000000   \n",
       "\n",
       "           moe        cv       upper_ci       lower_ci  reliable  \\\n",
       "0  1888.840296  0.001516  759478.497000  754907.503000      True   \n",
       "1  2553.429969  0.002050  760239.650589  754060.349411      True   \n",
       "2  1137.509055  0.002368  293401.386102  290648.613898      True   \n",
       "3  1671.101125  0.003451  296385.032574  292340.967426      True   \n",
       "4     0.000000  0.000000  865933.000000  865933.000000      True   \n",
       "\n",
       "                                      row_identifier              data_as_of  \\\n",
       "0  PUMS_acs5 population count data from 2014 to 2...  10/20/2022 02:24:33 PM   \n",
       "1  PUMS_acs5 population count data from 2015 to 2...  10/20/2022 02:24:34 PM   \n",
       "2  PUMS_acs5 population count data from 2014 to 2...  10/20/2022 02:24:35 PM   \n",
       "3  PUMS_acs5 population count data from 2015 to 2...  10/20/2022 02:24:36 PM   \n",
       "4  acs5 population count data from 2016 to 2021 a...  03/06/2023 12:09:00 PM   \n",
       "\n",
       "           data_loaded_at  \n",
       "0  10/20/2022 02:28:00 PM  \n",
       "1  10/20/2022 02:28:00 PM  \n",
       "2  10/20/2022 02:28:00 PM  \n",
       "3  10/20/2022 02:28:00 PM  \n",
       "4  03/06/2023 12:32:00 PM  "
      ]
     },
     "execution_count": 55,
     "metadata": {},
     "output_type": "execute_result"
    }
   ],
   "source": [
    "fact_table_final.head()"
   ]
  },
  {
   "cell_type": "code",
   "execution_count": 56,
   "metadata": {},
   "outputs": [
    {
     "data": {
      "text/plain": [
       "fact_id                0\n",
       "source_key             0\n",
       "geography_key          0\n",
       "time_key               0\n",
       "segment_key            0\n",
       "variable_key           0\n",
       "data_quality_key       0\n",
       "num_years              0\n",
       "start_year             0\n",
       "end_year               0\n",
       "estimate               8\n",
       "se                    12\n",
       "moe                   12\n",
       "cv                  3438\n",
       "upper_ci              20\n",
       "lower_ci              20\n",
       "reliable               0\n",
       "row_identifier         0\n",
       "data_as_of             0\n",
       "data_loaded_at         0\n",
       "dtype: int64"
      ]
     },
     "execution_count": 56,
     "metadata": {},
     "output_type": "execute_result"
    }
   ],
   "source": [
    "fact_table_final.isna().sum()"
   ]
  },
  {
   "cell_type": "code",
   "execution_count": 57,
   "metadata": {},
   "outputs": [
    {
     "name": "stderr",
     "output_type": "stream",
     "text": [
      "/tmp/ipykernel_219972/1675378536.py:1: SettingWithCopyWarning: \n",
      "A value is trying to be set on a copy of a slice from a DataFrame.\n",
      "Try using .loc[row_indexer,col_indexer] = value instead\n",
      "\n",
      "See the caveats in the documentation: https://pandas.pydata.org/pandas-docs/stable/user_guide/indexing.html#returning-a-view-versus-a-copy\n",
      "  fact_table_final['cv'] = fact_table_final['cv'].fillna(-1)\n"
     ]
    }
   ],
   "source": [
    "fact_table_final['cv'] = fact_table_final['cv'].fillna(-1) "
   ]
  },
  {
   "cell_type": "code",
   "execution_count": 58,
   "metadata": {},
   "outputs": [
    {
     "data": {
      "text/plain": [
       "fact_id              0\n",
       "source_key           0\n",
       "geography_key        0\n",
       "time_key             0\n",
       "segment_key          0\n",
       "variable_key         0\n",
       "data_quality_key     0\n",
       "num_years            0\n",
       "start_year           0\n",
       "end_year             0\n",
       "estimate             8\n",
       "se                  12\n",
       "moe                 12\n",
       "cv                   0\n",
       "upper_ci            20\n",
       "lower_ci            20\n",
       "reliable             0\n",
       "row_identifier       0\n",
       "data_as_of           0\n",
       "data_loaded_at       0\n",
       "dtype: int64"
      ]
     },
     "execution_count": 58,
     "metadata": {},
     "output_type": "execute_result"
    }
   ],
   "source": [
    "fact_table_final.isna().sum()"
   ]
  },
  {
   "cell_type": "code",
   "execution_count": 59,
   "metadata": {},
   "outputs": [
    {
     "name": "stdout",
     "output_type": "stream",
     "text": [
      "Columns with NaNs: ['estimate', 'se', 'moe', 'upper_ci', 'lower_ci']\n"
     ]
    }
   ],
   "source": [
    "# Print columns in fact_table_final that have NaN values\n",
    "nan_columns = fact_table_final.columns[fact_table_final.isna().any()]\n",
    "print(\"Columns with NaNs:\", list(nan_columns))"
   ]
  },
  {
   "cell_type": "code",
   "execution_count": 62,
   "metadata": {},
   "outputs": [
    {
     "name": "stderr",
     "output_type": "stream",
     "text": [
      "/tmp/ipykernel_219972/2633303697.py:2: FutureWarning: A value is trying to be set on a copy of a DataFrame or Series through chained assignment using an inplace method.\n",
      "The behavior will change in pandas 3.0. This inplace method will never work because the intermediate object on which we are setting values always behaves as a copy.\n",
      "\n",
      "For example, when doing 'df[col].method(value, inplace=True)', try using 'df.method({col: value}, inplace=True)' or df[col] = df[col].method(value) instead, to perform the operation inplace on the original object.\n",
      "\n",
      "\n",
      "  fact_table_final[i].fillna(-1, inplace=True)\n",
      "/tmp/ipykernel_219972/2633303697.py:2: SettingWithCopyWarning: \n",
      "A value is trying to be set on a copy of a slice from a DataFrame\n",
      "\n",
      "See the caveats in the documentation: https://pandas.pydata.org/pandas-docs/stable/user_guide/indexing.html#returning-a-view-versus-a-copy\n",
      "  fact_table_final[i].fillna(-1, inplace=True)\n"
     ]
    }
   ],
   "source": [
    "for i in nan_columns:\n",
    "    fact_table_final[i].fillna(-1, inplace=True)  \n",
    "\n",
    "# Fill NaNs with -1 or any other default value"
   ]
  },
  {
   "cell_type": "code",
   "execution_count": 63,
   "metadata": {},
   "outputs": [
    {
     "data": {
      "text/plain": [
       "fact_id             0\n",
       "source_key          0\n",
       "geography_key       0\n",
       "time_key            0\n",
       "segment_key         0\n",
       "variable_key        0\n",
       "data_quality_key    0\n",
       "num_years           0\n",
       "start_year          0\n",
       "end_year            0\n",
       "estimate            0\n",
       "se                  0\n",
       "moe                 0\n",
       "cv                  0\n",
       "upper_ci            0\n",
       "lower_ci            0\n",
       "reliable            0\n",
       "row_identifier      0\n",
       "data_as_of          0\n",
       "data_loaded_at      0\n",
       "dtype: int64"
      ]
     },
     "execution_count": 63,
     "metadata": {},
     "output_type": "execute_result"
    }
   ],
   "source": [
    "fact_table_final.isna().sum()"
   ]
  },
  {
   "cell_type": "code",
   "execution_count": 69,
   "metadata": {},
   "outputs": [],
   "source": [
    "dim_dfs = {\n",
    "    \"source_dim\": source_dim,\n",
    "    \"geography_dim\": geography_dim,\n",
    "    \"time_dim\": time_dim,\n",
    "    \"segment_dim\": segment_dim,\n",
    "    \"variable_dim\": variable_dim\n",
    "}"
   ]
  },
  {
   "cell_type": "code",
   "execution_count": null,
   "metadata": {},
   "outputs": [],
   "source": [
    "fact_table_final.to_csv('../data/star_schema/fact_table_final.csv', index=False)"
   ]
  },
  {
   "cell_type": "code",
   "execution_count": null,
   "metadata": {},
   "outputs": [
    {
     "name": "stdout",
     "output_type": "stream",
     "text": [
      "Saved source_dim with shape (9, 4) to CSV\n",
      "Saved geography_dim with shape (920, 5) to CSV\n",
      "Saved time_dim with shape (17, 4) to CSV\n",
      "Saved segment_dim with shape (165, 3) to CSV\n",
      "Saved variable_dim with shape (65, 6) to CSV\n"
     ]
    }
   ],
   "source": [
    "for key, df in dim_dfs.items():\n",
    "    df.to_csv(f'../data/star_schema/{key}.csv', index=False)\n",
    "    print(f\"Saved {key} with shape {df.shape} to CSV\")"
   ]
  }
 ],
 "metadata": {
  "kernelspec": {
   "display_name": ".engineering",
   "language": "python",
   "name": "python3"
  },
  "language_info": {
   "codemirror_mode": {
    "name": "ipython",
    "version": 3
   },
   "file_extension": ".py",
   "mimetype": "text/x-python",
   "name": "python",
   "nbconvert_exporter": "python",
   "pygments_lexer": "ipython3",
   "version": "3.10.12"
  }
 },
 "nbformat": 4,
 "nbformat_minor": 2
}
